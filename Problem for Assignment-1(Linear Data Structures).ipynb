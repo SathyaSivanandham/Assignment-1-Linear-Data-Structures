{
 "cells": [
  {
   "cell_type": "markdown",
   "id": "604482e5",
   "metadata": {},
   "source": [
    "# Solve these questions in a Jupyter notebook. Share the URL of the Jupyter notebook/GitHub."
   ]
  },
  {
   "cell_type": "code",
   "execution_count": 1,
   "id": "4ef1c70c",
   "metadata": {},
   "outputs": [
    {
     "name": "stdout",
     "output_type": "stream",
     "text": [
      "(1, 5)\n",
      "(1, 5)\n",
      "(7, -1)\n"
     ]
    }
   ],
   "source": [
    "#Q1. Write a program to find all pairs of an integer array whose sum is equal to a given number?\n",
    "def printPairs(arr, n, sum):\n",
    " \n",
    "    for i in range(0, n):\n",
    "        for j in range(i + 1, n):\n",
    "            if (arr[i] + arr[j] == sum):\n",
    "                print(\"(\", arr[i], \", \", arr[j], \")\", sep=\"\")\n",
    " \n",
    " \n",
    "arr = [1, 5, 7, -1, 5]\n",
    "n = len(arr)\n",
    "sum = 6\n",
    "printPairs(arr, n, sum) "
   ]
  },
  {
   "cell_type": "code",
   "execution_count": 2,
   "id": "7209a5a3",
   "metadata": {},
   "outputs": [
    {
     "name": "stdout",
     "output_type": "stream",
     "text": [
      "['E', 'D', 'Y', 'O', 'D', 'A']\n",
      "Reversed list is\n",
      "['A', 'D', 'O', 'Y', 'D', 'E']\n"
     ]
    }
   ],
   "source": [
    "#Q2. Write a program to reverse an array in place? In place means you cannot create a new array. You have to update the original array.\n",
    "def reverseList(A, start, end):\n",
    "    while start < end:\n",
    "        A[start], A[end] = A[end], A[start]\n",
    "        start += 1\n",
    "        end -= 1\n",
    " \n",
    "A = ['E','D','Y','O','D','A']\n",
    "print(A)\n",
    "reverseList(A, 0, 5)\n",
    "print(\"Reversed list is\")\n",
    "print(A)"
   ]
  },
  {
   "cell_type": "code",
   "execution_count": 3,
   "id": "1bac35bc",
   "metadata": {},
   "outputs": [
    {
     "name": "stdout",
     "output_type": "stream",
     "text": [
      "Enter First string = EDYODA\n",
      "Enter Second string = ODAEDY\n",
      "The given second string is the rotation of the given first string\n"
     ]
    }
   ],
   "source": [
    "#Q3. Write a program to check if two strings are a rotation of each other?\n",
    "fst_str = input(\"Enter First string = \")\n",
    "secnd_str = input(\"Enter Second string = \")\n",
    "if(len(fst_str) != len(secnd_str)):\n",
    "    print(\"The given second string is not the rotation of the given first string\")\n",
    "else:\n",
    "    conct_str = fst_str + fst_str\n",
    "    if(secnd_str in conct_str):\n",
    "        print(\"The given second string is the rotation of the given first string\")\n",
    "    else:\n",
    "        print(\"The given second string is not the rotation of the given first string\")"
   ]
  },
  {
   "cell_type": "code",
   "execution_count": 4,
   "id": "9c9e970a",
   "metadata": {},
   "outputs": [
    {
     "name": "stdout",
     "output_type": "stream",
     "text": [
      "Enter the Value : EDDYOODDAA\n",
      "First non-repeating character is E\n"
     ]
    }
   ],
   "source": [
    "#Q4. Write a program to print the first non-repeated character from a string?\n",
    "def FirstNonRepeat(s):\n",
    "    \n",
    "    for i in s:\n",
    "\n",
    "        if (s.find(i, (s.find(i)+1))) == -1:\n",
    "            print(\"First non-repeating character is\", i)\n",
    "            break\n",
    "        else:\n",
    "            print(\"There is no non-repeating character\")\n",
    "    return\n",
    "\n",
    "s = input(\"Enter the Value : \")\n",
    "FirstNonRepeat(s)"
   ]
  },
  {
   "cell_type": "code",
   "execution_count": 5,
   "id": "12b96e15",
   "metadata": {},
   "outputs": [
    {
     "name": "stdout",
     "output_type": "stream",
     "text": [
      "Enter number of disks: 2\n",
      "Move disk [1] from rod [ A ] to rod { B }\n",
      "Move disk [2] from rod [ A ] to rod { C }\n",
      "Move disk [1] from rod [ B ] to rod { C }\n"
     ]
    }
   ],
   "source": [
    "#Q5. Read about the Tower of Hanoi algorithm. Write a program to implement it.\n",
    "def Towers_Of_Hanoi(numdisks, frm_disc, to_disc, aux_disc):\n",
    "    if numdisks == 1:\n",
    "        print(\"Move disk [1] from rod [\", frm_disc, \"] to rod {\", to_disc, '}')\n",
    "        return\n",
    "    Towers_Of_Hanoi(numdisks-1, frm_disc, aux_disc, to_disc)\n",
    "    print(\"Move disk [\"+str(numdisks) + \"] from rod [\", str(frm_disc)+\" ] to rod {\", to_disc, '}')\n",
    "    Towers_Of_Hanoi(numdisks-1, aux_disc, to_disc, frm_disc)\n",
    "numdisks = int(input('Enter number of disks: '))\n",
    "Towers_Of_Hanoi(numdisks, 'A', 'C', 'B')"
   ]
  },
  {
   "cell_type": "code",
   "execution_count": 7,
   "id": "efd1445e",
   "metadata": {},
   "outputs": [
    {
     "name": "stdout",
     "output_type": "stream",
     "text": [
      "Prefix :  +AB-CD\n"
     ]
    }
   ],
   "source": [
    "#Q6. Read about infix, prefix, and postfix expressions. Write a program to convert postfix to prefix expression.\n",
    "def isOperator(x):\n",
    "\n",
    "    if x == \"+\":\n",
    "        return True\n",
    "\n",
    "    if x == \"-\":\n",
    "        return True\n",
    "\n",
    "    if x == \"/\":\n",
    "        return True\n",
    "\n",
    "    if x == \"*\":\n",
    "        return True\n",
    "\n",
    "    return False\n",
    "\n",
    "def postToPre(post_exp):\n",
    "\n",
    "    s = []\n",
    "\n",
    "    length = len(post_exp)\n",
    "\n",
    "    for i in range(length):\n",
    "        if (isOperator(post_exp[i])):\n",
    "\n",
    "            op1 = s[-1]\n",
    "            s.pop()\n",
    "            op2 = s[-1]\n",
    "            s.pop()\n",
    "\n",
    "            temp = post_exp[i] + op2 + op1\n",
    "\n",
    "            s.append(temp)\n",
    "\n",
    "        else:\n",
    "            s.append(post_exp[i])\n",
    "\n",
    "\n",
    "    ans = \"\"\n",
    "    for i in s:\n",
    "        ans += i\n",
    "    return ans\n",
    "\n",
    "post_exp = \"AB+CD-\"\n",
    "print(\"Prefix : \", postToPre(post_exp))\n"
   ]
  },
  {
   "cell_type": "code",
   "execution_count": 8,
   "id": "e9d11458",
   "metadata": {},
   "outputs": [
    {
     "name": "stdout",
     "output_type": "stream",
     "text": [
      "((A-(B/C))*((A/K)-L))\n"
     ]
    }
   ],
   "source": [
    "#Q7. Write a program to convert prefix expression to infix expression.\n",
    "def prefixToInfix(prefix):\n",
    "    stack = []\n",
    "\n",
    "    i = len(prefix) - 1\n",
    "    while i >= 0:\n",
    "        if not isOperator(prefix[i]):\n",
    "            stack.append(prefix[i])\n",
    "            i -= 1\n",
    "        else:\n",
    "            str = \"(\" + stack.pop() + prefix[i] + stack.pop() + \")\"\n",
    "            stack.append(str)\n",
    "            i -= 1\n",
    "\t\n",
    "    return stack.pop()\n",
    "\n",
    "def isOperator(c):\n",
    "    if c == \"*\" or c == \"+\" or c == \"-\" or c == \"/\" or c == \"^\" or c == \"(\" or c == \")\":\n",
    "        return True\n",
    "    else:\n",
    "        return False\n",
    "str = \"*-A/BC-/AKL\"\n",
    "print(prefixToInfix(str))"
   ]
  },
  {
   "cell_type": "code",
   "execution_count": 9,
   "id": "d636070d",
   "metadata": {},
   "outputs": [
    {
     "name": "stdout",
     "output_type": "stream",
     "text": [
      "Balanced\n"
     ]
    }
   ],
   "source": [
    "#Q8. Write a program to check if all the brackets are closed in a given code snippet.\n",
    "def areBracketsBalanced(expr):\n",
    "    stack = []\n",
    " \n",
    " \n",
    "    for char in expr:\n",
    "        if char in [\"(\", \"{\", \"[\"]:\n",
    " \n",
    "       \n",
    "            stack.append(char)\n",
    "        else:\n",
    " \n",
    "           \n",
    "            if not stack:\n",
    "                return False\n",
    "            current_char = stack.pop()\n",
    "            if current_char == '(':\n",
    "                if char != \")\":\n",
    "                    return False\n",
    "            if current_char == '{':\n",
    "                if char != \"}\":\n",
    "                    return False\n",
    "            if current_char == '[':\n",
    "                if char != \"]\":\n",
    "                    return False\n",
    " \n",
    "    if stack:\n",
    "        return False\n",
    "    return True\n",
    "\n",
    "expr = \"{()}[]\"\n",
    "\n",
    "if areBracketsBalanced(expr):\n",
    "    print(\"Balanced\")\n",
    "    \n",
    "else:\n",
    "    print(\"Not Balanced\") "
   ]
  },
  {
   "cell_type": "code",
   "execution_count": 10,
   "id": "7940d545",
   "metadata": {},
   "outputs": [
    {
     "name": "stdout",
     "output_type": "stream",
     "text": [
      "Reversed string is adoydEolleH\n"
     ]
    }
   ],
   "source": [
    "#Q9. Write a program to reverse a stack.\n",
    "def createStack():\n",
    "    stack = []\n",
    "    return stack\n",
    "\n",
    "def size(stack):\n",
    "    return len(stack)\n",
    "\n",
    "def isEmpty(stack):\n",
    "    if size(stack) == 0:\n",
    "        return true\n",
    "\n",
    "def push(stack, item):\n",
    "    stack.append(item)\n",
    "\n",
    "\n",
    "def pop(stack):\n",
    "    if isEmpty(stack):\n",
    "        return\n",
    "    return stack.pop()\n",
    "\n",
    "def reverse(string):\n",
    "    n = len(string)\n",
    "\n",
    "    stack = createStack()\n",
    "\n",
    "    for i in range(0, n, 1):\n",
    "        push(stack, string[i])\n",
    "\n",
    "    string = \"\"\n",
    "\n",
    "    for i in range(0, n, 1):\n",
    "        string += pop(stack)\n",
    "\n",
    "    return string\n",
    "\n",
    "\n",
    "string = \"HelloEdyoda\"\n",
    "string = reverse(string)\n",
    "print(\"Reversed string is \" + string)"
   ]
  },
  {
   "cell_type": "code",
   "execution_count": 11,
   "id": "b6bbe687",
   "metadata": {},
   "outputs": [
    {
     "name": "stdout",
     "output_type": "stream",
     "text": [
      "How many numbers: 5\n",
      "Enter number: 10\n",
      "Enter number: 48\n",
      "Enter number: 75\n",
      "Enter number: 2\n",
      "Enter number: 50\n",
      "Smallest number in the list is :   2\n"
     ]
    }
   ],
   "source": [
    "#Q10. Write a program to find the smallest number using a stack.\n",
    "First = []\n",
    "num = int(input('How many numbers: '))\n",
    "\n",
    "for n in range(num):\n",
    "    numbers = int(input('Enter number: '))\n",
    "    First.append(numbers)\n",
    "    \n",
    "print(\"Smallest number in the list is :  \", min(First))"
   ]
  },
  {
   "cell_type": "code",
   "execution_count": null,
   "id": "829fc8d3",
   "metadata": {},
   "outputs": [],
   "source": []
  }
 ],
 "metadata": {
  "kernelspec": {
   "display_name": "Python 3 (ipykernel)",
   "language": "python",
   "name": "python3"
  },
  "language_info": {
   "codemirror_mode": {
    "name": "ipython",
    "version": 3
   },
   "file_extension": ".py",
   "mimetype": "text/x-python",
   "name": "python",
   "nbconvert_exporter": "python",
   "pygments_lexer": "ipython3",
   "version": "3.11.0"
  }
 },
 "nbformat": 4,
 "nbformat_minor": 5
}
